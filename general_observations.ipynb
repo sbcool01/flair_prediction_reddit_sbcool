{
 "cells": [
  {
   "cell_type": "code",
   "execution_count": 1,
   "metadata": {},
   "outputs": [],
   "source": [
    "import pandas as pd\n",
    "import math\n",
    "import json\n",
    "import requests\n",
    "import itertools\n",
    "import numpy as np\n",
    "import time\n",
    "import datetime"
   ]
  },
  {
   "cell_type": "code",
   "execution_count": 6,
   "metadata": {},
   "outputs": [
    {
     "data": {
      "text/html": [
       "<div>\n",
       "<style scoped>\n",
       "    .dataframe tbody tr th:only-of-type {\n",
       "        vertical-align: middle;\n",
       "    }\n",
       "\n",
       "    .dataframe tbody tr th {\n",
       "        vertical-align: top;\n",
       "    }\n",
       "\n",
       "    .dataframe thead th {\n",
       "        text-align: right;\n",
       "    }\n",
       "</style>\n",
       "<table border=\"1\" class=\"dataframe\">\n",
       "  <thead>\n",
       "    <tr style=\"text-align: right;\">\n",
       "      <th></th>\n",
       "      <th>title</th>\n",
       "      <th>flair</th>\n",
       "    </tr>\n",
       "  </thead>\n",
       "  <tbody>\n",
       "    <tr>\n",
       "      <th>0</th>\n",
       "      <td>HELP HELP TEST</td>\n",
       "      <td>[R]eddiquette</td>\n",
       "    </tr>\n",
       "    <tr>\n",
       "      <th>1</th>\n",
       "      <td>Lets have a conversation Randians</td>\n",
       "      <td>[R]eddiquette</td>\n",
       "    </tr>\n",
       "    <tr>\n",
       "      <th>2</th>\n",
       "      <td>Forest guards ordered to watch over python tha...</td>\n",
       "      <td>Non-Political</td>\n",
       "    </tr>\n",
       "    <tr>\n",
       "      <th>3</th>\n",
       "      <td>Engineering pass-outs from Shitty colleges (Ti...</td>\n",
       "      <td>AskIndia</td>\n",
       "    </tr>\n",
       "    <tr>\n",
       "      <th>4</th>\n",
       "      <td>The Constitution, as ABVP would have it. [Old]</td>\n",
       "      <td>Politics</td>\n",
       "    </tr>\n",
       "  </tbody>\n",
       "</table>\n",
       "</div>"
      ],
      "text/plain": [
       "                                               title          flair\n",
       "0                                     HELP HELP TEST  [R]eddiquette\n",
       "1                  Lets have a conversation Randians  [R]eddiquette\n",
       "2  Forest guards ordered to watch over python tha...  Non-Political\n",
       "3  Engineering pass-outs from Shitty colleges (Ti...       AskIndia\n",
       "4     The Constitution, as ABVP would have it. [Old]       Politics"
      ]
     },
     "execution_count": 6,
     "metadata": {},
     "output_type": "execute_result"
    }
   ],
   "source": [
    "df_train=pd.read_csv(r'E:\\Reddit\\reddit_data_balanced.csv')\n",
    "df_train.drop(['Unnamed: 0'], axis = 1, inplace=True)\n",
    "df_train.head()"
   ]
  },
  {
   "cell_type": "code",
   "execution_count": 7,
   "metadata": {},
   "outputs": [
    {
     "data": {
      "image/png": "[encoded data removed]",
      "text/plain": [
       "<matplotlib.figure.Figure at 0xcf58b0e10>"
      ]
     },
     "metadata": {
      "needs_background": "light"
     },
     "output_type": "display_data"
    }
   ],
   "source": [
    "import matplotlib.pyplot as plt\n",
    "fig = plt.figure(figsize=(8,6))\n",
    "df_train.groupby('flair').title.count().plot.bar(ylim=0)\n",
    "plt.show()"
   ]
  },
  {
   "cell_type": "code",
   "execution_count": 8,
   "metadata": {},
   "outputs": [
    {
     "data": {
      "text/html": [
       "<div>\n",
       "<style scoped>\n",
       "    .dataframe tbody tr th:only-of-type {\n",
       "        vertical-align: middle;\n",
       "    }\n",
       "\n",
       "    .dataframe tbody tr th {\n",
       "        vertical-align: top;\n",
       "    }\n",
       "\n",
       "    .dataframe thead th {\n",
       "        text-align: right;\n",
       "    }\n",
       "</style>\n",
       "<table border=\"1\" class=\"dataframe\">\n",
       "  <thead>\n",
       "    <tr style=\"text-align: right;\">\n",
       "      <th></th>\n",
       "      <th>title</th>\n",
       "      <th>flair</th>\n",
       "      <th>category_id</th>\n",
       "    </tr>\n",
       "  </thead>\n",
       "  <tbody>\n",
       "    <tr>\n",
       "      <th>0</th>\n",
       "      <td>HELP HELP TEST</td>\n",
       "      <td>[R]eddiquette</td>\n",
       "      <td>0</td>\n",
       "    </tr>\n",
       "    <tr>\n",
       "      <th>1</th>\n",
       "      <td>Lets have a conversation Randians</td>\n",
       "      <td>[R]eddiquette</td>\n",
       "      <td>0</td>\n",
       "    </tr>\n",
       "    <tr>\n",
       "      <th>2</th>\n",
       "      <td>Forest guards ordered to watch over python tha...</td>\n",
       "      <td>Non-Political</td>\n",
       "      <td>1</td>\n",
       "    </tr>\n",
       "    <tr>\n",
       "      <th>3</th>\n",
       "      <td>Engineering pass-outs from Shitty colleges (Ti...</td>\n",
       "      <td>AskIndia</td>\n",
       "      <td>2</td>\n",
       "    </tr>\n",
       "    <tr>\n",
       "      <th>4</th>\n",
       "      <td>The Constitution, as ABVP would have it. [Old]</td>\n",
       "      <td>Politics</td>\n",
       "      <td>3</td>\n",
       "    </tr>\n",
       "  </tbody>\n",
       "</table>\n",
       "</div>"
      ],
      "text/plain": [
       "                                               title          flair  \\\n",
       "0                                     HELP HELP TEST  [R]eddiquette   \n",
       "1                  Lets have a conversation Randians  [R]eddiquette   \n",
       "2  Forest guards ordered to watch over python tha...  Non-Political   \n",
       "3  Engineering pass-outs from Shitty colleges (Ti...       AskIndia   \n",
       "4     The Constitution, as ABVP would have it. [Old]       Politics   \n",
       "\n",
       "   category_id  \n",
       "0            0  \n",
       "1            0  \n",
       "2            1  \n",
       "3            2  \n",
       "4            3  "
      ]
     },
     "execution_count": 8,
     "metadata": {},
     "output_type": "execute_result"
    }
   ],
   "source": [
    "df_train['category_id'] = df_train['flair'].factorize()[0]\n",
    "category_id_df = df_train[['flair', 'category_id']].drop_duplicates().sort_values('category_id')\n",
    "category_to_id = dict(category_id_df.values)\n",
    "id_to_category = dict(category_id_df[['category_id', 'flair']].values)\n",
    "df_train.head()"
   ]
  },
  {
   "cell_type": "code",
   "execution_count": 9,
   "metadata": {},
   "outputs": [
    {
     "data": {
      "text/plain": [
       "{'AskIndia': 2,\n",
       " 'Business/Finance': 7,\n",
       " 'Coronavirus': 13,\n",
       " 'Demonetization': 6,\n",
       " 'Food': 5,\n",
       " 'Non-Political': 1,\n",
       " 'Not in English.': 10,\n",
       " 'Photography': 4,\n",
       " 'Policy/Economy': 12,\n",
       " 'Politics': 3,\n",
       " 'Science/Technology': 11,\n",
       " 'Sports': 9,\n",
       " '[R]eddiquette': 0,\n",
       " 'other': 8}"
      ]
     },
     "execution_count": 9,
     "metadata": {},
     "output_type": "execute_result"
    }
   ],
   "source": [
    "category_to_id"
   ]
  },
  {
   "cell_type": "code",
   "execution_count": 10,
   "metadata": {},
   "outputs": [
    {
     "data": {
      "text/plain": [
       "Non-Political         10000\n",
       "Politics              10000\n",
       "AskIndia              10000\n",
       "Policy/Economy         8000\n",
       "Business/Finance       8000\n",
       "Science/Technology     8000\n",
       "Sports                 5000\n",
       "Coronavirus            5000\n",
       "[R]eddiquette          5000\n",
       "other                  5000\n",
       "Food                   3500\n",
       "Not in English.        3500\n",
       "Demonetization         3500\n",
       "Photography            3500\n",
       "Name: flair, dtype: int64"
      ]
     },
     "execution_count": 10,
     "metadata": {},
     "output_type": "execute_result"
    }
   ],
   "source": [
    "df_train['flair'].value_counts()"
   ]
  },
  {
   "cell_type": "code",
   "execution_count": null,
   "metadata": {},
   "outputs": [],
   "source": []
  }
 ],
 "metadata": {
  "kernelspec": {
   "display_name": "Python 3",
   "language": "python",
   "name": "python3"
  },
  "language_info": {
   "codemirror_mode": {
    "name": "ipython",
    "version": 3
   },
   "file_extension": ".py",
   "mimetype": "text/x-python",
   "name": "python",
   "nbconvert_exporter": "python",
   "pygments_lexer": "ipython3",
   "version": "3.5.6"
  }
 },
 "nbformat": 4,
 "nbformat_minor": 4
}
